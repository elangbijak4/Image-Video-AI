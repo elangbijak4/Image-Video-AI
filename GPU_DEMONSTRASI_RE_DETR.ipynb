{
  "nbformat": 4,
  "nbformat_minor": 0,
  "metadata": {
    "colab": {
      "provenance": [],
      "gpuType": "T4",
      "authorship_tag": "ABX9TyMHxHbdvgaE7rM/wE75U0g5",
      "include_colab_link": true
    },
    "kernelspec": {
      "name": "python3",
      "display_name": "Python 3"
    },
    "language_info": {
      "name": "python"
    },
    "accelerator": "GPU"
  },
  "cells": [
    {
      "cell_type": "markdown",
      "metadata": {
        "id": "view-in-github",
        "colab_type": "text"
      },
      "source": [
        "<a href=\"https://colab.research.google.com/github/elangbijak4/Image-Video-AI/blob/main/GPU_DEMONSTRASI_RE_DETR.ipynb\" target=\"_parent\"><img src=\"https://colab.research.google.com/assets/colab-badge.svg\" alt=\"Open In Colab\"/></a>"
      ]
    },
    {
      "cell_type": "code",
      "source": [
        "# Langkah 1: Instal library yang diperlukan\n",
        "!pip install torch torchvision transformers opencv-python"
      ],
      "metadata": {
        "id": "VL89j3a80DYl"
      },
      "execution_count": null,
      "outputs": []
    },
    {
      "cell_type": "code",
      "source": [
        "!pip install timm"
      ],
      "metadata": {
        "id": "BbTt33PV0R2U"
      },
      "execution_count": null,
      "outputs": []
    },
    {
      "cell_type": "code",
      "source": [
        "import timm\n",
        "import torch\n",
        "import torch.nn as nn\n",
        "import torch.nn.functional as F\n",
        "import torchvision"
      ],
      "metadata": {
        "id": "XRmDNhaU0gvC"
      },
      "execution_count": 10,
      "outputs": []
    },
    {
      "cell_type": "code",
      "source": [
        "# Langkah 2: Import library yang diperlukan\n",
        "import torchvision.transforms as T\n",
        "from transformers import AutoImageProcessor, DetrForObjectDetection\n",
        "import cv2\n",
        "import numpy as np\n",
        "from matplotlib import pyplot as plt"
      ],
      "metadata": {
        "id": "pGKFinE00F9l"
      },
      "execution_count": 11,
      "outputs": []
    },
    {
      "cell_type": "code",
      "source": [
        "# Langkah 3: Memuat model RE-DETR dan image processor\n",
        "processor = AutoImageProcessor.from_pretrained(\"SenseTime/re_detr\")\n",
        "model = DetrForObjectDetection.from_pretrained(\"SenseTime/re_detr\").to(\"cuda\")"
      ],
      "metadata": {
        "id": "n_tTY3Qo0MLO"
      },
      "execution_count": null,
      "outputs": []
    },
    {
      "cell_type": "code",
      "source": [
        "# Langkah 4: Mendefinisikan fungsi untuk menggambar kotak deteksi pada frame\n",
        "def draw_boxes(frame, outputs):\n",
        "    colors = ['r', 'g', 'b', 'y', 'c', 'm', 'k']\n",
        "    probas = outputs.logits.softmax(-1)[0, :, :-1].cpu()\n",
        "    keep = probas.max(-1).values > 0.9\n",
        "    bboxes_scaled = outputs.pred_boxes[0, keep].cpu()\n",
        "    labels = probas[keep].argmax(-1)\n",
        "\n",
        "    for (xmin, ymin, xmax, ymax), label in zip(bboxes_scaled, labels):\n",
        "        xmin = int(xmin * frame.shape[1])\n",
        "        xmax = int(xmax * frame.shape[1])\n",
        "        ymin = int(ymin * frame.shape[0])\n",
        "        ymax = int(ymax * frame.shape[0])\n",
        "        color = (0, 255, 0)  # Green color for bounding box\n",
        "        cv2.rectangle(frame, (xmin, ymin), (xmax, ymax), color, 2)\n",
        "        text = f\"{model.config.id2label[label.item()]}: {probas[keep][label].max().item():.2f}\"\n",
        "        cv2.putText(frame, text, (xmin, ymin - 10), cv2.FONT_HERSHEY_SIMPLEX, 0.9, color, 2)\n",
        "    return frame\n",
        "\n",
        "# Langkah 5: Mengunduh video contoh\n",
        "!wget -O video.mp4 https://ia800102.us.archive.org/23/items/SampleVideo1280x72020mb/SampleVideo_1280x720_20mb.mp4\n",
        "\n",
        "# Langkah 6: Membaca video dan melakukan deteksi objek pada setiap frame\n",
        "cap = cv2.VideoCapture('video.mp4')\n",
        "\n",
        "# Mendapatkan lebar dan tinggi frame\n",
        "width = int(cap.get(cv2.CAP_PROP_FRAME_WIDTH))\n",
        "height = int(cap.get(cv2.CAP_PROP_FRAME_HEIGHT))\n",
        "fps = cap.get(cv2.CAP_PROP_FPS)\n",
        "\n",
        "# Menyiapkan video writer untuk menyimpan hasil\n",
        "fourcc = cv2.VideoWriter_fourcc(*'mp4v')\n",
        "out = cv2.VideoWriter('output.mp4', fourcc, fps, (width, height))\n",
        "\n",
        "while cap.isOpened():\n",
        "    ret, frame = cap.read()\n",
        "    if not ret:\n",
        "        break\n",
        "\n",
        "    # Preprocess the frame\n",
        "    inputs = processor(images=frame, return_tensors=\"pt\").to(\"cuda\")\n",
        "\n",
        "    # Perform object detection\n",
        "    with torch.no_grad():\n",
        "        outputs = model(**inputs)\n",
        "\n",
        "    # Draw detection boxes on the frame\n",
        "    frame = draw_boxes(frame, outputs)\n",
        "\n",
        "    # Write the frame to the output video\n",
        "    out.write(frame)\n",
        "\n",
        "cap.release()\n",
        "out.release()\n",
        "\n",
        "# Langkah 7: Menampilkan video hasil\n",
        "from IPython.display import Video\n",
        "Video(\"output.mp4\", embed=True)"
      ],
      "metadata": {
        "id": "lXlSGR1Tz-Q7"
      },
      "execution_count": null,
      "outputs": []
    }
  ]
}